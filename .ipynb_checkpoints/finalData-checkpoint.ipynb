{
 "cells": [
  {
   "cell_type": "code",
   "execution_count": 1,
   "metadata": {},
   "outputs": [],
   "source": [
    "import pandas as pd;\n",
    "import numpy as np"
   ]
  },
  {
   "cell_type": "code",
   "execution_count": 2,
   "metadata": {},
   "outputs": [],
   "source": [
    "used_car = pd.read_csv('cleanData/used_car_clean.csv')"
   ]
  },
  {
   "cell_type": "code",
   "execution_count": 3,
   "metadata": {},
   "outputs": [],
   "source": [
    "used_car_copy = used_car.copy()"
   ]
  },
  {
   "cell_type": "code",
   "execution_count": 4,
   "metadata": {},
   "outputs": [],
   "source": [
    "searchForMake = ['JEEP', 'CHEVROLET','HYUNDAI','NISSAN','HONDA','BMW','VOLKSWAGEN','GMC','FORD']\n",
    "used_car_copy = used_car_copy[used_car_copy.Make.str.contains('|'.join(searchForMake))]\n",
    "searchForModel = ['GRAND', 'WRANGLER','EQUINOXFWD','SANTA','ALTIMA2.5','ACCORD','3','JETTA','SILVERADO','SIERRA','F-1504WD','SUPER']\n",
    "used_car_copy = used_car_copy[used_car_copy.Model.str.contains('|'.join(searchForModel))]"
   ]
  },
  {
   "cell_type": "code",
   "execution_count": 5,
   "metadata": {},
   "outputs": [],
   "source": [
    "used_car_copy['Original Price'] = 0"
   ]
  },
  {
   "cell_type": "code",
   "execution_count": 6,
   "metadata": {},
   "outputs": [],
   "source": [
    "#Add Original Price and Vehicle type to SUV\n",
    "used_car_copy.loc[(used_car_copy.Make == 'JEEP') & (used_car_copy.Model == 'GRAND'), 'Original Price'] = 31695\n",
    "used_car_copy.loc[(used_car_copy.Make == 'JEEP') & (used_car_copy.Model == 'GRAND'), 'Vehicle Type'] = 'SUV'\n",
    "used_car_copy.loc[(used_car_copy.Make == 'JEEP') & (used_car_copy.Model == 'WRANGLER'), 'Original Price'] = 28045\n",
    "used_car_copy.loc[(used_car_copy.Make == 'JEEP') & (used_car_copy.Model == 'WRANGLER'), 'Vehicle Type'] = 'SUV'\n",
    "used_car_copy.loc[(used_car_copy.Make == 'CHEVROLET') & (used_car_copy.Model == 'EQUINOXFWD'), 'Original Price'] = 31000\n",
    "used_car_copy.loc[(used_car_copy.Make == 'CHEVROLET') & (used_car_copy.Model == 'EQUINOXFWD'), 'Vehicle Type'] = 'SUV'\n",
    "used_car_copy.loc[(used_car_copy.Make == 'HYUNDAI') & (used_car_copy.Model == 'SANTA'), 'Original Price'] = 29800\n",
    "used_car_copy.loc[(used_car_copy.Make == 'HYUNDAI') & (used_car_copy.Model == 'SANTA'), 'Vehicle Type'] = 'SUV'"
   ]
  },
  {
   "cell_type": "code",
   "execution_count": 7,
   "metadata": {},
   "outputs": [],
   "source": [
    "#Add Original Price and Vehicle type to Sedan\n",
    "used_car_copy.loc[(used_car_copy.Make == 'NISSAN') & (used_car_copy.Model == 'ALTIMA2.5'), 'Original Price'] = 31780\n",
    "used_car_copy.loc[(used_car_copy.Make == 'NISSAN') & (used_car_copy.Model == 'ALTIMA2.5'), 'Vehicle Type'] = 'Sedan'\n",
    "used_car_copy.loc[(used_car_copy.Make == 'HONDA') & (used_car_copy.Model == 'ACCORD'), 'Original Price'] = 27470\n",
    "used_car_copy.loc[(used_car_copy.Make == 'HONDA') & (used_car_copy.Model == 'ACCORD'), 'Vehicle Type'] = 'Sedan'\n",
    "used_car_copy.loc[(used_car_copy.Make == 'BMW') & (used_car_copy.Model == '3'), 'Original Price'] = 45000\n",
    "used_car_copy.loc[(used_car_copy.Make == 'BMW') & (used_car_copy.Model == '3'), 'Vehicle Type'] = 'Sedan'\n",
    "used_car_copy.loc[(used_car_copy.Make == 'VOLKSWAGEN') & (used_car_copy.Model == 'JETTA'), 'Original Price'] = 24500\n",
    "used_car_copy.loc[(used_car_copy.Make == 'VOLKSWAGEN') & (used_car_copy.Model == 'JETTA'), 'Vehicle Type'] = 'Sedan'"
   ]
  },
  {
   "cell_type": "code",
   "execution_count": 8,
   "metadata": {},
   "outputs": [],
   "source": [
    "#Add Original Price and Vehicle type to Truck\n",
    "used_car_copy.loc[(used_car_copy.Make == 'CHEVROLET') & (used_car_copy.Model == 'SILVERADO'), 'Original Price'] = 38200\n",
    "used_car_copy.loc[(used_car_copy.Make == 'CHEVROLET') & (used_car_copy.Model == 'SILVERADO'), 'Vehicle Type'] = 'Truck'\n",
    "used_car_copy.loc[(used_car_copy.Make == 'GMC') & (used_car_copy.Model == 'SIERRA'), 'Original Price'] = 35900\n",
    "used_car_copy.loc[(used_car_copy.Make == 'GMC') & (used_car_copy.Model == 'SIERRA'), 'Vehicle Type'] = 'Truck'\n",
    "used_car_copy.loc[(used_car_copy.Make == 'FORD') & (used_car_copy.Model == 'F-1504WD'), 'Original Price'] = 34695\n",
    "used_car_copy.loc[(used_car_copy.Make == 'FORD') & (used_car_copy.Model == 'F-1504WD'), 'Vehicle Type'] = 'Truck'\n",
    "used_car_copy.loc[(used_car_copy.Make == 'FORD') & (used_car_copy.Model == 'SUPER'), 'Original Price'] = 33150\n",
    "used_car_copy.loc[(used_car_copy.Make == 'FORD') & (used_car_copy.Model == 'SUPER'), 'Vehicle Type'] = 'Truck'\n"
   ]
  },
  {
   "cell_type": "code",
   "execution_count": 9,
   "metadata": {},
   "outputs": [],
   "source": [
    "used_car_copy=used_car_copy.dropna()"
   ]
  },
  {
   "cell_type": "code",
   "execution_count": 10,
   "metadata": {
    "scrolled": true
   },
   "outputs": [],
   "source": [
    "gdp = pd.read_csv('cleanData/MAGDP2_2001_2017_ALL_AREAS.csv')\n",
    "#gdp = gdp[gdp['GeoName'].str.contains('CA', na = False)]\n",
    "gdp = gdp[gdp['Description'].str.contains('All industry total', na=False)].drop('GeoFIPS', axis=1).drop('Region', axis=1).drop('TableName', axis=1).drop('ComponentName', axis=1).drop('Unit', axis=1).drop('IndustryId', axis=1).drop('IndustryClassification', axis=1).drop('Description', axis=1)"
   ]
  },
  {
   "cell_type": "code",
   "execution_count": 11,
   "metadata": {},
   "outputs": [
    {
     "name": "stderr",
     "output_type": "stream",
     "text": [
      "C:\\Users\\zyj97\\Anaconda3\\lib\\site-packages\\pandas\\core\\frame.py:3694: SettingWithCopyWarning: \n",
      "A value is trying to be set on a copy of a slice from a DataFrame\n",
      "\n",
      "See the caveats in the documentation: http://pandas.pydata.org/pandas-docs/stable/indexing.html#indexing-view-versus-copy\n",
      "  errors=errors)\n"
     ]
    }
   ],
   "source": [
    "#Select car in top Ten most popular cities rank by sales\n",
    "\n",
    "Houston = used_car_copy[used_car_copy['City'].str.contains('Houston')]\n",
    "San_Antonio = used_car_copy[used_car_copy['City'].str.contains('San Antonio')]    \n",
    "Louisville = used_car_copy[used_car_copy['City'].str.contains('Louisville')] \n",
    "Jacksonville = used_car_copy[used_car_copy['City'].str.contains('Jacksonville')] \n",
    "Austin = used_car_copy[used_car_copy['City'].str.contains('Austin')]                          \n",
    "Columbia = used_car_copy[used_car_copy['City'].str.contains('Columbia')]                  \n",
    "Raleigh = used_car_copy[used_car_copy['City'].str.contains('Raleigh')]                             \n",
    "Orlando = used_car_copy[used_car_copy['City'].str.contains('Orlando')]   \n",
    "Colorado = used_car_copy[used_car_copy['City'].str.contains('Colorado')]       \n",
    "Philadelphia = used_car_copy[used_car_copy['City'].str.contains('Philadelphia')]    \n",
    "San_Francisco = used_car_copy[used_car_copy['City'].str.contains('San Francisco')]    \n",
    "\n",
    "\n",
    "Houston.drop(Houston.columns[0],axis=1,inplace=True)\n",
    "San_Antonio.drop(San_Antonio.columns[0],axis=1,inplace=True)\n",
    "Louisville.drop(Louisville.columns[0],axis=1,inplace=True)\n",
    "Jacksonville.drop(Jacksonville.columns[0],axis=1,inplace=True)\n",
    "Austin.drop(Austin.columns[0],axis=1,inplace=True)\n",
    "Columbia.drop(Columbia.columns[0],axis=1,inplace=True)\n",
    "Raleigh.drop(Raleigh.columns[0],axis=1,inplace=True)\n",
    "Orlando.drop(Orlando.columns[0],axis=1,inplace=True)\n",
    "Colorado.drop(Colorado.columns[0],axis=1,inplace=True)\n",
    "Philadelphia.drop(Philadelphia.columns[0],axis=1,inplace=True)\n",
    "San_Francisco.drop(San_Francisco.columns[0],axis=1,inplace=True)\n",
    "Top_cities = pd.concat([Houston, San_Antonio, Louisville, Jacksonville, Austin, Columbia, Raleigh, Orlando, Colorado, Philadelphia, San_Francisco])\n",
    "\n",
    "    \n",
    "#CAUsedCar = used_car_copy[used_car_copy['State'].str.contains('CA')]\n",
    "\n",
    "#WAUsedCar.drop(WAUsedCar.columns[0],axis=1,inplace=True)\n",
    "#CAUsedCar.drop(CAUsedCar.columns[0],axis=1,inplace=True)\n",
    "\n",
    "#WAUsedCar['City'] = WAUsedCar['City'].str.upper()\n",
    "#WAUsedCarGrouped = WAUsedCar.groupby('City')\n",
    "#WAUsedCarGrouped.size().sort_values(ascending=False)\n"
   ]
  },
  {
   "cell_type": "code",
   "execution_count": 12,
   "metadata": {},
   "outputs": [],
   "source": [
    "#remove cars are not made in the year of 2001 to 2017\n",
    "#CAUsedCar = CAUsedCar[(CAUsedCar['Year'] >2000) & (CAUsedCar['Year'] <2018)]\n",
    "\n",
    "#Top_cities = Top_cities[(Top_cities['Year'] >2000) & (Top_cities['Year'] <2018)]"
   ]
  },
  {
   "cell_type": "code",
   "execution_count": 13,
   "metadata": {},
   "outputs": [],
   "source": [
    "#add a column of service time \n",
    "Top_cities['serviceTime'] = 2018 - Top_cities['Year']\n",
    "#get depreciationRate and then drop price and original price\n",
    "Top_cities['DepreciationRate'] = Top_cities['Price']/Top_cities['Original Price']\n",
    "#CAUsedCar.drop(CAUsedCar.columns[0],axis=1,inplace=True)\n",
    "#CAUsedCar.drop(CAUsedCar.columns[6],axis=1,inplace=True)\n",
    "#drop make and model column\n",
    "#CAUsedCar.drop(CAUsedCar.columns[4],axis=1,inplace=True)\n",
    "#CAUsedCar.drop(CAUsedCar.columns[4],axis=1,inplace=True)"
   ]
  },
  {
   "cell_type": "code",
   "execution_count": 15,
   "metadata": {},
   "outputs": [],
   "source": [
    "#CAUsedCar = CAUsedCar.drop(CAUsedCar[CAUsedCar.DepreciationRate > 1.0].index)\n",
    "Top_cities = Top_cities.drop(Top_cities[Top_cities.DepreciationRate > 1.0].index)"
   ]
  },
  {
   "cell_type": "code",
   "execution_count": 18,
   "metadata": {},
   "outputs": [],
   "source": [
    "Top_cities['Gdp'] = 0\n",
    "Top_cities['City'] = Top_cities['City'].str.upper()\n",
    "gdp['GeoName'] = gdp['GeoName'].str.upper()\n",
    "for index,car in Top_cities.iterrows():\n",
    "    allGdp = gdp[(gdp['GeoName'].str.contains(car['City']))]\n",
    "    #col = [col for col in allGdp.columns if str(car['Year']) in col]\n",
    "    Gdp = allGdp['2017'].values.tolist()\n",
    "    if len(Gdp) > 0:\n",
    "        car['Gdp'] = Gdp[0]\n",
    "        Top_cities.at[index,'Gdp'] = float(Gdp[0])\n"
   ]
  },
  {
   "cell_type": "code",
   "execution_count": 20,
   "metadata": {},
   "outputs": [
    {
     "data": {
      "text/plain": [
       "City\n",
       "Plano                 50\n",
       "Charlotte             46\n",
       "Houston               40\n",
       "Raleigh               39\n",
       "San Antonio           39\n",
       "Austin                38\n",
       "Orlando               36\n",
       "Miami                 32\n",
       "Marietta              32\n",
       "Carrollton            32\n",
       "Pembroke Pines        31\n",
       "Great Neck            30\n",
       "Concord               29\n",
       "North Hollywood       28\n",
       "San Rafael            28\n",
       "Louisville            28\n",
       "Virginia Beach        25\n",
       "Portland              25\n",
       "Sacramento            24\n",
       "Arlington             23\n",
       "Marlow Heights        23\n",
       "Bellevue              23\n",
       "Huntington Station    21\n",
       "Alexandria            21\n",
       "Torrance              21\n",
       "Roseville             21\n",
       "Rochelle Park         21\n",
       "Irvine                20\n",
       "Springfield           20\n",
       "Costa Mesa            19\n",
       "                      ..\n",
       "Pharr                  1\n",
       "Perth Amboy            1\n",
       "Perrysburg             1\n",
       "Paterson               1\n",
       "Hialeah                1\n",
       "Patchogue              1\n",
       "Paris                  1\n",
       "Greenacres             1\n",
       "Greatneck              1\n",
       "Rahway                 1\n",
       "Pomona                 1\n",
       "Radcliff               1\n",
       "Ft. Worth              1\n",
       "Queens Village         1\n",
       "GILBERT                1\n",
       "Punta Gorda            1\n",
       "Prince Frederick       1\n",
       "Gardena                1\n",
       "Port Orchard           1\n",
       "Glen Allen             1\n",
       "Plainville             1\n",
       "Glen Burnie            1\n",
       "Glendale               1\n",
       "Glenview               1\n",
       "Playa Vista            1\n",
       "Plattsmouth            1\n",
       "Goldens Bridge         1\n",
       "Granite City           1\n",
       "Plantation             1\n",
       "marietta               1\n",
       "Length: 747, dtype: int64"
      ]
     },
     "execution_count": 20,
     "metadata": {},
     "output_type": "execute_result"
    }
   ],
   "source": [
    "used_car_copy.groupby(['City']).size().sort_values(ascending=False)"
   ]
  },
  {
   "cell_type": "code",
   "execution_count": 22,
   "metadata": {},
   "outputs": [],
   "source": [
    "population = pd.read_csv('cityPopulation.csv')"
   ]
  },
  {
   "cell_type": "code",
   "execution_count": 23,
   "metadata": {},
   "outputs": [],
   "source": [
    "population = population[['Name','Population']][:10]\n",
    "population['Name'] = population['Name'].str.upper()"
   ]
  },
  {
   "cell_type": "code",
   "execution_count": 25,
   "metadata": {},
   "outputs": [],
   "source": [
    "finalData = pd.merge(Top_cities, population, left_on='City', right_on='Name').drop('Name', axis = 1)"
   ]
  },
  {
   "cell_type": "code",
   "execution_count": 26,
   "metadata": {},
   "outputs": [],
   "source": [
    "finalData.to_csv('finalDate.csv')"
   ]
  },
  {
   "cell_type": "code",
   "execution_count": null,
   "metadata": {},
   "outputs": [],
   "source": []
  }
 ],
 "metadata": {
  "kernelspec": {
   "display_name": "Python 3",
   "language": "python",
   "name": "python3"
  },
  "language_info": {
   "codemirror_mode": {
    "name": "ipython",
    "version": 3
   },
   "file_extension": ".py",
   "mimetype": "text/x-python",
   "name": "python",
   "nbconvert_exporter": "python",
   "pygments_lexer": "ipython3",
   "version": "3.6.5"
  }
 },
 "nbformat": 4,
 "nbformat_minor": 2
}
