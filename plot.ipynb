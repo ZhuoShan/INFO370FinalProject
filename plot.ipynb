{
 "cells": [
  {
   "cell_type": "code",
   "execution_count": 12,
   "metadata": {},
   "outputs": [],
   "source": [
    "import pandas as pd;\n",
    "import numpy as np"
   ]
  },
  {
   "cell_type": "code",
   "execution_count": 2,
   "metadata": {
    "scrolled": true
   },
   "outputs": [],
   "source": [
    "car_sales = pd.read_csv('cleanData/car_sales_clean.csv')\n",
    "elevation = pd.read_csv('cleanData/elevationClean.csv')\n",
    "gdp = pd.read_csv('cleanData/gdpClean.csv')\n",
    "used_car = pd.read_csv('cleanData/used_car_clean.csv')\n",
    "state = pd.read_csv('rawData/50_us_states_all_data (1).csv')\n",
    "state.drop(state.columns[0],axis=1,inplace=True)\n",
    "state.drop(state.columns[2],axis=1,inplace=True)\n",
    "finalData = elevation.merge(state, how='inner', left_on='State', right_on='StateName').drop('StateName', axis=1)\n",
    "finalData = finalData.merge(gdp, how='inner', left_on='State', right_on='GeoName').drop('GeoName', axis=1)\n",
    "#finalData = used_car.merge(finalData, how='inner', left_on='State', right_on='StateAggre')\n",
    "finalData = finalData[finalData.ComponentName == 'Gross domestic product (GDP) by state (millions of current dollars)']\n",
    "finalData = finalData.drop('ComponentName', axis=1)\n",
    "finalData = finalData.drop('Description', axis=1)\n",
    "finalData.drop(finalData.columns[0],axis=1,inplace=True)\n",
    "#used_car = used_car.merge(car_sales, how='left', left_on='Model', right_on='Model')\n",
    "#for index,car in car_sales.iterrows():\n",
    "   # carMake = car['Make'].strip()\n",
    "    #if used_car['Make'].str.contains(carMake).any():\n",
    "    #    carMakeModel = car_sales.loc[car_sales['Make'] == carMake]\n",
    "    #    print('g')\n",
    "    #    print(carMakeModel)\n",
    "      #  pat = '|'.join(r\"{}\".format(x) for x in car['Make'])\n",
    "     #   used_car['Test3'] = used_car['Make'].str.extract('('+ pat + ')', expand=False)\n",
    "        #DF = pd.merge(DF1, DF2, left_on= 'Test1', right_on='Test3').drop('Test3', axis=1)\n",
    "#finalData = finalData.groupby('StateAggre')\n",
    "#finalData.sum()\n"
   ]
  },
  {
   "cell_type": "code",
   "execution_count": 3,
   "metadata": {},
   "outputs": [],
   "source": [
    "#Select target state\n",
    "used_car['State'] = used_car['State'].str.upper()\n",
    "used_carGrouped = used_car.groupby('State')\n",
    "#used_carGrouped.size().sort_values(ascending=False)"
   ]
  },
  {
   "cell_type": "code",
   "execution_count": 4,
   "metadata": {},
   "outputs": [
    {
     "data": {
      "text/plain": [
       "Make        Model           \n",
       "CHEVROLET   SILVERADO           10932\n",
       "NISSAN      ALTIMA2.5            5080\n",
       "GMC         SIERRA               4950\n",
       "JEEP        GRAND                4810\n",
       "HONDA       ACCORD               4430\n",
       "FORD        F-1504WD             4004\n",
       "JEEP        WRANGLER             3506\n",
       "HONDA       CIVIC                3460\n",
       "BMW         3                    3325\n",
       "VOLKSWAGEN  JETTA                3138\n",
       "HYUNDAI     SANTA                2992\n",
       "FORD        FUSIONSE             2953\n",
       "CHEVROLET   EQUINOXFWD           2854\n",
       "DODGE       GRAND                2510\n",
       "TOYOTA      CAMRYSE              2348\n",
       "FORD        SUPER                2300\n",
       "TOYOTA      COROLLALE            2292\n",
       "CHEVROLET   MALIBULT             2268\n",
       "FORD        F-150XLT             1923\n",
       "LAND        ROVER                1892\n",
       "CHRYSLER    TOWN                 1860\n",
       "CHEVROLET   CAMAROCOUPE          1730\n",
       "DODGE       RAM                  1725\n",
       "MINI        COOPER               1693\n",
       "HYUNDAI     SONATA2.4L           1640\n",
       "BMW         5                    1636\n",
       "KIA         SORENTOLX            1634\n",
       "FORD        F-1502WD             1618\n",
       "KIA         OPTIMALX             1614\n",
       "FORD        EXPLORERXLT          1613\n",
       "                                ...  \n",
       "INFINITI    QX70V8                  1\n",
       "CHEVROLET   CAMARO1LS               1\n",
       "INFINITI    QX80BASE                1\n",
       "CHEVROLET   CAMARO2LS               1\n",
       "            CAMARO2SS               1\n",
       "NISSAN      PATHFINDER4DR           1\n",
       "INFINITI    M56X                    1\n",
       "NISSAN      QUEST3DR                1\n",
       "PONTIAC     FIREBIRD2000            1\n",
       "BUICK       VERANOTURBO             1\n",
       "PORSCHE     PANAMERAPLATINUM        1\n",
       "DODGE       STRATUS2004.5           1\n",
       "CADILLAC    CONCOURS4DR             1\n",
       "PORSCHE     BOXSTERS                1\n",
       "            BOXSTERGTS              1\n",
       "DODGE       NEONSX                  1\n",
       "            NEONSE                  1\n",
       "CADILLAC    DEVILLEBASE             1\n",
       "PLYMOUTH    VOYAGER4                1\n",
       "NISSAN      SENTRANISMO             1\n",
       "OLDSMOBILE  REGENCY4DR              1\n",
       "CADILLAC    ESCALADEBASE            1\n",
       "OLDSMOBILE  CUTLASS4DR              1\n",
       "            CUTLASS                 1\n",
       "INFINITI    M56BASE                 1\n",
       "            M56M56                  1\n",
       "OLDSMOBILE  884DR                   1\n",
       "NISSAN      TRUCKS                  1\n",
       "            TITANSE                 1\n",
       "ACURA       CLMANUAL                1\n",
       "Length: 2709, dtype: int64"
      ]
     },
     "execution_count": 4,
     "metadata": {},
     "output_type": "execute_result"
    }
   ],
   "source": [
    "#Select taget Model\n",
    "used_car['Model'] = used_car['Model'].str.upper()\n",
    "used_car['Make'] = used_car['Make'].str.upper()\n",
    "used_carGrouped = used_car.groupby(['Make','Model'])\n",
    "used_carGrouped.size().sort_values(ascending=False)"
   ]
  },
  {
   "cell_type": "code",
   "execution_count": 5,
   "metadata": {},
   "outputs": [
    {
     "name": "stderr",
     "output_type": "stream",
     "text": [
      "/Users/ZhuoShan/anaconda2/lib/python2.7/site-packages/ipykernel_launcher.py:2: SettingWithCopyWarning: \n",
      "A value is trying to be set on a copy of a slice from a DataFrame.\n",
      "Try using .loc[row_indexer,col_indexer] = value instead\n",
      "\n",
      "See the caveats in the documentation: http://pandas.pydata.org/pandas-docs/stable/indexing.html#indexing-view-versus-copy\n",
      "  \n"
     ]
    },
    {
     "data": {
      "text/plain": [
       "City\n",
       "PUYALLUP          1195\n",
       "TACOMA            1063\n",
       "SEATTLE            676\n",
       "BELLEVUE           566\n",
       "SPOKANE            499\n",
       "LYNNWOOD           450\n",
       "EVERETT            410\n",
       "LAKEWOOD           350\n",
       "OLYMPIA            341\n",
       "AUBURN             316\n",
       "RENTON             308\n",
       "KIRKLAND           278\n",
       "BREMERTON          260\n",
       "BELLINGHAM         252\n",
       "EDMONDS            226\n",
       "VANCOUVER          207\n",
       "BURIEN             166\n",
       "SHORELINE          149\n",
       "SPOKANE VALLEY     146\n",
       "MARYSVILLE         133\n",
       "FIFE               129\n",
       "CHEHALIS           124\n",
       "FEDERAL WAY        110\n",
       "TURNWATER          103\n",
       "KENNEWICK           99\n",
       "BURLINGTON          95\n",
       "MOUNT VERNON        82\n",
       "PORT ORCHARD        81\n",
       "ISSAQUAH            80\n",
       "YAKIMA              73\n",
       "SUMNER              73\n",
       "WOODINVILLE         61\n",
       "LONGVIEW            56\n",
       "WALLA WALLA         53\n",
       "TUKWILA             52\n",
       "WENATCHEE           49\n",
       "COLVILLE            48\n",
       "ELLENSBURG          46\n",
       "LIBERTY LAKE        45\n",
       "EAST WENATCHEE      42\n",
       "MONROE              40\n",
       "MCKENNA             39\n",
       "BOTHELL             38\n",
       "WASHOUGAL           36\n",
       "ARLINGTON           34\n",
       "MOSES LAKE          33\n",
       "KENT                28\n",
       "REDMOND             27\n",
       "PULLMAN             24\n",
       "NORTH BEND          23\n",
       "FERNDALE            23\n",
       "KENMORE             19\n",
       "ENUMCLAW            15\n",
       "OAK HARBOR          13\n",
       "ANACORTES           11\n",
       "RICHLAND             7\n",
       "dtype: int64"
      ]
     },
     "execution_count": 5,
     "metadata": {},
     "output_type": "execute_result"
    }
   ],
   "source": [
    "WAUsedCar = used_car[used_car['State'].str.contains('WA')]\n",
    "WAUsedCar['City'] = WAUsedCar['City'].str.upper()\n",
    "WAUsedCarGrouped = WAUsedCar.groupby('City')\n",
    "WAUsedCarGrouped.size().sort_values(ascending=False)"
   ]
  },
  {
   "cell_type": "code",
   "execution_count": 6,
   "metadata": {},
   "outputs": [],
   "source": [
    "searchFor = ['SEATTLE', 'TACOMA','BELLEVUE']\n",
    "bigSeattleUsedCar = WAUsedCar[WAUsedCar.City.str.contains('|'.join(searchFor))]"
   ]
  },
  {
   "cell_type": "code",
   "execution_count": 12,
   "metadata": {},
   "outputs": [
    {
     "data": {
      "text/plain": [
       "Make           Model            \n",
       "BMW            3                    50\n",
       "Chevrolet      Silverado            39\n",
       "Honda          Accord               29\n",
       "Lexus          RX                   28\n",
       "Honda          Civic                26\n",
       "Ford           F-1504WD             24\n",
       "Volkswagen     Jetta                24\n",
       "Jeep           Grand                22\n",
       "Mercedes-Benz  C-ClassC             21\n",
       "Land           Rover                21\n",
       "MINI           Cooper               19\n",
       "GMC            Sierra               18\n",
       "Nissan         Altima2.5            18\n",
       "Dodge          Ram                  16\n",
       "Jeep           Wrangler             15\n",
       "Lexus          ES                   15\n",
       "BMW            i3Hatchback          15\n",
       "               5                    15\n",
       "Lexus          IS                   14\n",
       "Ford           Super                14\n",
       "BMW            4                    14\n",
       "Ford           FocusHatchback       13\n",
       "Volkswagen     Golf                 13\n",
       "Mazda          Mazda3i              13\n",
       "Chrysler       Town                 12\n",
       "Subaru         Outback2.5i          12\n",
       "Toyota         CamryLE              11\n",
       "Jeep           PatriotSport         11\n",
       "Lexus          RXRX                 11\n",
       "BMW            X3xDrive28i          10\n",
       "                                    ..\n",
       "Lexus          LS                    1\n",
       "Kia            SportageLX            1\n",
       "               SoulManual            1\n",
       "               SorentoSX             1\n",
       "INFINITI       Q50Red                1\n",
       "               Q603.0t               1\n",
       "smart          fortwopassion         1\n",
       "Jaguar         F-PACE35t             1\n",
       "               F-TYPEConvertible     1\n",
       "               F-TYPECoupe           1\n",
       "               F-TYPEF-Type          1\n",
       "               S-TYPE4dr             1\n",
       "               XE20d                 1\n",
       "               XF35t                 1\n",
       "               XFI4                  1\n",
       "               XFXF                  1\n",
       "               XJRWD                 1\n",
       "Jeep           Cherokee4WD           1\n",
       "               Commander4dr          1\n",
       "               CompassFWD            1\n",
       "               CompassLatitude       1\n",
       "               LibertyLimited        1\n",
       "               PatriotHigh           1\n",
       "Kia            ForteEX               1\n",
       "               OptimaEX              1\n",
       "               Rio5-door             1\n",
       "               RioSX                 1\n",
       "               SorentoEX             1\n",
       "               SorentoLimited        1\n",
       "Acura          ILXTechnology         1\n",
       "Length: 774, dtype: int64"
      ]
     },
     "execution_count": 12,
     "metadata": {},
     "output_type": "execute_result"
    }
   ],
   "source": [
    "bigSeattleUsedCar\n",
    "bigSeattleUsedCar.groupby(['Make','Model']).size().sort_values(ascending=False)"
   ]
  },
  {
   "cell_type": "code",
   "execution_count": 28,
   "metadata": {},
   "outputs": [],
   "source": [
    "used_car_copy = used_car.copy()"
   ]
  },
  {
   "cell_type": "code",
   "execution_count": 29,
   "metadata": {},
   "outputs": [],
   "source": [
    "used_car_copy['Original Price'] = 0"
   ]
  },
  {
   "cell_type": "code",
   "execution_count": 33,
   "metadata": {},
   "outputs": [],
   "source": [
    "#Add Original Price and Vehicle type to SUV\n",
    "used_car_copy.loc[(used_car_copy.Make == 'JEEP') & (used_car_copy.Model == 'GRAND'), 'Original Price'] = 31695\n",
    "used_car_copy.loc[(used_car_copy.Make == 'JEEP') & (used_car_copy.Model == 'GRAND'), 'Vehicle Type'] = 'SUV'\n",
    "used_car_copy.loc[(used_car_copy.Make == 'JEEP') & (used_car_copy.Model == 'WRANGLER'), 'Original Price'] = 28045\n",
    "used_car_copy.loc[(used_car_copy.Make == 'JEEP') & (used_car_copy.Model == 'WRANGLER'), 'Vehicle Type'] = 'SUV'\n",
    "used_car_copy.loc[(used_car_copy.Make == 'CHEVROLET') & (used_car_copy.Model == 'EQUINOXFWD'), 'Original Price'] = 31000\n",
    "used_car_copy.loc[(used_car_copy.Make == 'CHEVROLET') & (used_car_copy.Model == 'EQUINOXFWD'), 'Vehicle Type'] = 'SUV'\n",
    "used_car_copy.loc[(used_car_copy.Make == 'HYUNDAI') & (used_car_copy.Model == 'SANTA'), 'Original Price'] = 29800\n",
    "used_car_copy.loc[(used_car_copy.Make == 'HYUNDAI') & (used_car_copy.Model == 'SANTA'), 'Vehicle Type'] = 'SUV'"
   ]
  },
  {
   "cell_type": "code",
   "execution_count": 43,
   "metadata": {},
   "outputs": [],
   "source": [
    "#Add Original Price and Vehicle type to Sedan\n",
    "used_car_copy.loc[(used_car_copy.Make == 'NISSAN') & (used_car_copy.Model == 'ALTIMA2.5'), 'Original Price'] = 31780\n",
    "used_car_copy.loc[(used_car_copy.Make == 'NISSAN') & (used_car_copy.Model == 'ALTIMA2.5'), 'Vehicle Type'] = 'Sedan'\n",
    "used_car_copy.loc[(used_car_copy.Make == 'HONDA') & (used_car_copy.Model == 'ACCORD'), 'Original Price'] = 27470\n",
    "used_car_copy.loc[(used_car_copy.Make == 'HONDA') & (used_car_copy.Model == 'ACCORD'), 'Vehicle Type'] = 'Sedan'\n",
    "used_car_copy.loc[(used_car_copy.Make == 'BMW') & (used_car_copy.Model == '3'), 'Original Price'] = 45000\n",
    "used_car_copy.loc[(used_car_copy.Make == 'BMW') & (used_car_copy.Model == '3'), 'Vehicle Type'] = 'Sedan'\n",
    "used_car_copy.loc[(used_car_copy.Make == 'VOLKSWAGEN') & (used_car_copy.Model == 'JETTA'), 'Original Price'] = 24500\n",
    "used_car_copy.loc[(used_car_copy.Make == 'VOLKSWAGEN') & (used_car_copy.Model == 'JETTA'), 'Vehicle Type'] = 'Sedan'\n"
   ]
  },
  {
   "cell_type": "code",
   "execution_count": 44,
   "metadata": {},
   "outputs": [],
   "source": [
    "#Add Original Price and Vehicle type to Truck\n",
    "used_car_copy.loc[(used_car_copy.Make == 'CHEVROLET') & (used_car_copy.Model == 'SILVERADO'), 'Original Price'] = 38200\n",
    "used_car_copy.loc[(used_car_copy.Make == 'CHEVROLET') & (used_car_copy.Model == 'SILVERADO'), 'Vehicle Type'] = 'Truck'\n",
    "used_car_copy.loc[(used_car_copy.Make == 'GMC') & (used_car_copy.Model == 'SIERRA'), 'Original Price'] = 35900\n",
    "used_car_copy.loc[(used_car_copy.Make == 'GMC') & (used_car_copy.Model == 'SIERRA'), 'Vehicle Type'] = 'Truck'\n",
    "used_car_copy.loc[(used_car_copy.Make == 'FORD') & (used_car_copy.Model == 'F-1504WD'), 'Original Price'] = 34695\n",
    "used_car_copy.loc[(used_car_copy.Make == 'FORD') & (used_car_copy.Model == 'F-1504WD'), 'Vehicle Type'] = 'Truck'\n",
    "used_car_copy.loc[(used_car_copy.Make == 'FORD') & (used_car_copy.Model == 'SUPER'), 'Original Price'] = 33150\n",
    "used_car_copy.loc[(used_car_copy.Make == 'FORD') & (used_car_copy.Model == 'SUPER'), 'Vehicle Type'] = 'Truck'"
   ]
  },
  {
   "cell_type": "code",
   "execution_count": 51,
   "metadata": {},
   "outputs": [
    {
     "data": {
      "text/plain": [
       "Vehicle Type\n",
       "Truck    22186\n",
       "Sedan    15973\n",
       "SUV      14162\n",
       "dtype: int64"
      ]
     },
     "execution_count": 51,
     "metadata": {},
     "output_type": "execute_result"
    }
   ],
   "source": [
    "#Group by vehicle type\n",
    "used_car_copy['Model'] = used_car_copy['Model'].str.upper()\n",
    "used_car_copy['Make'] = used_car_copy['Make'].str.upper()\n",
    "used_carGrouped = used_car_copy.groupby(['Vehicle Type'])\n",
    "used_carGrouped.size().sort_values(ascending=False)"
   ]
  },
  {
   "cell_type": "code",
   "execution_count": 46,
   "metadata": {},
   "outputs": [
    {
     "ename": "SyntaxError",
     "evalue": "invalid syntax (<ipython-input-46-5676088bcb09>, line 1)",
     "output_type": "error",
     "traceback": [
      "\u001b[0;36m  File \u001b[0;32m\"<ipython-input-46-5676088bcb09>\"\u001b[0;36m, line \u001b[0;32m1\u001b[0m\n\u001b[0;31m    &car_sales['depreciationRate'] = car_sales['4-year resale value']/car_sales['Price']\u001b[0m\n\u001b[0m    ^\u001b[0m\n\u001b[0;31mSyntaxError\u001b[0m\u001b[0;31m:\u001b[0m invalid syntax\n"
     ]
    }
   ],
   "source": [
    "&car_sales['depreciationRate'] = car_sales['4-year resale value']/car_sales['Price']\n",
    "import matplotlib.pyplot as plt\n",
    "plt.figure()\n",
    "plt.hist(car_sales['depreciationRate'])\n",
    "plt.show()"
   ]
  },
  {
   "cell_type": "code",
   "execution_count": 27,
   "metadata": {},
   "outputs": [
    {
     "data": {
      "image/png": "[encoded data removed]",
      "text/plain": [
       "<Figure size 432x288 with 1 Axes>"
      ]
     },
     "metadata": {},
     "output_type": "display_data"
    }
   ],
   "source": [
    "plt.figure()\n",
    "plt.scatter(used_car['Mileage'],used_car['Price'])\n",
    "plt.show()"
   ]
  },
  {
   "cell_type": "code",
   "execution_count": 29,
   "metadata": {},
   "outputs": [
    {
     "data": {
      "image/png": "[encoded data removed]",
      "text/plain": [
       "<Figure size 432x288 with 1 Axes>"
      ]
     },
     "metadata": {},
     "output_type": "display_data"
    }
   ],
   "source": [
    "plt.figure()\n",
    "plt.scatter(2018-used_car['Year'],used_car['Price'])\n",
    "plt.show()"
   ]
  },
  {
   "cell_type": "code",
   "execution_count": null,
   "metadata": {},
   "outputs": [],
   "source": []
  }
 ],
 "metadata": {
  "kernelspec": {
   "display_name": "Python 2",
   "language": "python",
   "name": "python2"
  },
  "language_info": {
   "codemirror_mode": {
    "name": "ipython",
    "version": 2
   },
   "file_extension": ".py",
   "mimetype": "text/x-python",
   "name": "python",
   "nbconvert_exporter": "python",
   "pygments_lexer": "ipython2",
   "version": "2.7.15"
  }
 },
 "nbformat": 4,
 "nbformat_minor": 2
}
