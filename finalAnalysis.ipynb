{
 "cells": [
  {
   "cell_type": "code",
   "execution_count": 1,
   "metadata": {},
   "outputs": [],
   "source": [
    "import pandas as pd\n",
    "import statsmodels.api as sm\n",
    "import statsmodels.formula.api as smf\n",
    "import matplotlib.pyplot as plt\n",
    "from scipy import stats\n",
    "import numpy as np"
   ]
  },
  {
   "cell_type": "code",
   "execution_count": 75,
   "metadata": {
    "scrolled": true
   },
   "outputs": [],
   "source": [
    "DF = pd.read_csv('finalData.csv').drop(['Unnamed: 0.1'],axis=1).drop(['Unnamed: 0'],axis=1).drop(['Year'],axis=1).drop(['State'],axis=1)\n",
    "DF=DF.rename(columns = {'Vehicle Type':'vehicleType'})"
   ]
  },
  {
   "cell_type": "code",
   "execution_count": 76,
   "metadata": {},
   "outputs": [
    {
     "data": {
      "text/plain": [
       "91906"
      ]
     },
     "execution_count": 76,
     "metadata": {},
     "output_type": "execute_result"
    }
   ],
   "source": [
    "DF['City'].value_counts().nlargest(30).sum()"
   ]
  },
  {
   "cell_type": "code",
   "execution_count": 77,
   "metadata": {},
   "outputs": [],
   "source": [
    "DF['Counts'] = DF.groupby(['City'])['DepreciationRate'].transform('count')\n",
    "DF = DF.sort_values('Counts',ascending=False)\n",
    "DF = DF[:91906]"
   ]
  },
  {
   "cell_type": "code",
   "execution_count": 78,
   "metadata": {},
   "outputs": [
    {
     "data": {
      "text/plain": [
       "array([490074,  13820,  76063,  49853, 192177,  10250,   5484,   3937,\n",
       "       133251,  24395, 535499, 148750,   5441,   8216,   6455, 208868,\n",
       "        17332, 174029,  22113,  20245,  32143,  16771,  28937,   5991,\n",
       "       344881,   8027,   8555,  12567], dtype=int64)"
      ]
     },
     "execution_count": 78,
     "metadata": {},
     "output_type": "execute_result"
    }
   ],
   "source": [
    "DF['Gdp'].unique()"
   ]
  },
  {
   "cell_type": "code",
   "execution_count": 79,
   "metadata": {},
   "outputs": [
    {
     "data": {
      "image/png": "[encoded data removed]",
      "text/plain": [
       "<Figure size 432x288 with 1 Axes>"
      ]
     },
     "metadata": {},
     "output_type": "display_data"
    }
   ],
   "source": [
    "import seaborn as sns\n",
    "import matplotlib.pyplot as plt\n",
    "plt.hist(DF['DepreciationRate'], bins = 100)\n",
    "plt.show()"
   ]
  },
  {
   "cell_type": "code",
   "execution_count": 80,
   "metadata": {},
   "outputs": [
    {
     "data": {
      "image/png": "[encoded data removed]",
      "text/plain": [
       "<Figure size 432x288 with 1 Axes>"
      ]
     },
     "metadata": {},
     "output_type": "display_data"
    }
   ],
   "source": [
    "DF['logDepreciationRate']= np.log(DF['DepreciationRate'])\n",
    "plt.hist(DF['logDepreciationRate'],bins = 100)\n",
    "plt.show()"
   ]
  },
  {
   "cell_type": "code",
   "execution_count": 81,
   "metadata": {},
   "outputs": [
    {
     "data": {
      "text/html": [
       "<div>\n",
       "<style scoped>\n",
       "    .dataframe tbody tr th:only-of-type {\n",
       "        vertical-align: middle;\n",
       "    }\n",
       "\n",
       "    .dataframe tbody tr th {\n",
       "        vertical-align: top;\n",
       "    }\n",
       "\n",
       "    .dataframe thead th {\n",
       "        text-align: right;\n",
       "    }\n",
       "</style>\n",
       "<table border=\"1\" class=\"dataframe\">\n",
       "  <thead>\n",
       "    <tr style=\"text-align: right;\">\n",
       "      <th></th>\n",
       "      <th>Mileage</th>\n",
       "      <th>Gdp</th>\n",
       "      <th>Population</th>\n",
       "      <th>logDepreciationRate</th>\n",
       "      <th>SUV</th>\n",
       "      <th>Sedan</th>\n",
       "      <th>Truck</th>\n",
       "    </tr>\n",
       "  </thead>\n",
       "  <tbody>\n",
       "    <tr>\n",
       "      <th>0</th>\n",
       "      <td>126244</td>\n",
       "      <td>490074</td>\n",
       "      <td>2090</td>\n",
       "      <td>-2.342992</td>\n",
       "      <td>0</td>\n",
       "      <td>0</td>\n",
       "      <td>1</td>\n",
       "    </tr>\n",
       "    <tr>\n",
       "      <th>5045</th>\n",
       "      <td>105861</td>\n",
       "      <td>490074</td>\n",
       "      <td>2347</td>\n",
       "      <td>-1.733699</td>\n",
       "      <td>1</td>\n",
       "      <td>0</td>\n",
       "      <td>0</td>\n",
       "    </tr>\n",
       "    <tr>\n",
       "      <th>5057</th>\n",
       "      <td>22898</td>\n",
       "      <td>490074</td>\n",
       "      <td>2347</td>\n",
       "      <td>-2.024021</td>\n",
       "      <td>0</td>\n",
       "      <td>0</td>\n",
       "      <td>1</td>\n",
       "    </tr>\n",
       "    <tr>\n",
       "      <th>5056</th>\n",
       "      <td>105861</td>\n",
       "      <td>490074</td>\n",
       "      <td>2312717</td>\n",
       "      <td>-1.733699</td>\n",
       "      <td>1</td>\n",
       "      <td>0</td>\n",
       "      <td>0</td>\n",
       "    </tr>\n",
       "    <tr>\n",
       "      <th>5055</th>\n",
       "      <td>105861</td>\n",
       "      <td>490074</td>\n",
       "      <td>2090</td>\n",
       "      <td>-1.733699</td>\n",
       "      <td>1</td>\n",
       "      <td>0</td>\n",
       "      <td>0</td>\n",
       "    </tr>\n",
       "    <tr>\n",
       "      <th>5054</th>\n",
       "      <td>105861</td>\n",
       "      <td>490074</td>\n",
       "      <td>2090</td>\n",
       "      <td>-1.733699</td>\n",
       "      <td>1</td>\n",
       "      <td>0</td>\n",
       "      <td>0</td>\n",
       "    </tr>\n",
       "    <tr>\n",
       "      <th>5053</th>\n",
       "      <td>105861</td>\n",
       "      <td>490074</td>\n",
       "      <td>2090</td>\n",
       "      <td>-1.733699</td>\n",
       "      <td>1</td>\n",
       "      <td>0</td>\n",
       "      <td>0</td>\n",
       "    </tr>\n",
       "    <tr>\n",
       "      <th>5052</th>\n",
       "      <td>105861</td>\n",
       "      <td>490074</td>\n",
       "      <td>3464</td>\n",
       "      <td>-1.733699</td>\n",
       "      <td>1</td>\n",
       "      <td>0</td>\n",
       "      <td>0</td>\n",
       "    </tr>\n",
       "    <tr>\n",
       "      <th>5051</th>\n",
       "      <td>105861</td>\n",
       "      <td>490074</td>\n",
       "      <td>3464</td>\n",
       "      <td>-1.733699</td>\n",
       "      <td>1</td>\n",
       "      <td>0</td>\n",
       "      <td>0</td>\n",
       "    </tr>\n",
       "    <tr>\n",
       "      <th>5050</th>\n",
       "      <td>105861</td>\n",
       "      <td>490074</td>\n",
       "      <td>960</td>\n",
       "      <td>-1.733699</td>\n",
       "      <td>1</td>\n",
       "      <td>0</td>\n",
       "      <td>0</td>\n",
       "    </tr>\n",
       "    <tr>\n",
       "      <th>5049</th>\n",
       "      <td>105861</td>\n",
       "      <td>490074</td>\n",
       "      <td>960</td>\n",
       "      <td>-1.733699</td>\n",
       "      <td>1</td>\n",
       "      <td>0</td>\n",
       "      <td>0</td>\n",
       "    </tr>\n",
       "    <tr>\n",
       "      <th>5048</th>\n",
       "      <td>105861</td>\n",
       "      <td>490074</td>\n",
       "      <td>960</td>\n",
       "      <td>-1.733699</td>\n",
       "      <td>1</td>\n",
       "      <td>0</td>\n",
       "      <td>0</td>\n",
       "    </tr>\n",
       "    <tr>\n",
       "      <th>5047</th>\n",
       "      <td>105861</td>\n",
       "      <td>490074</td>\n",
       "      <td>960</td>\n",
       "      <td>-1.733699</td>\n",
       "      <td>1</td>\n",
       "      <td>0</td>\n",
       "      <td>0</td>\n",
       "    </tr>\n",
       "    <tr>\n",
       "      <th>5046</th>\n",
       "      <td>118155</td>\n",
       "      <td>490074</td>\n",
       "      <td>3464</td>\n",
       "      <td>-1.963553</td>\n",
       "      <td>0</td>\n",
       "      <td>1</td>\n",
       "      <td>0</td>\n",
       "    </tr>\n",
       "    <tr>\n",
       "      <th>5044</th>\n",
       "      <td>26183</td>\n",
       "      <td>490074</td>\n",
       "      <td>2312717</td>\n",
       "      <td>-1.705971</td>\n",
       "      <td>0</td>\n",
       "      <td>1</td>\n",
       "      <td>0</td>\n",
       "    </tr>\n",
       "    <tr>\n",
       "      <th>5059</th>\n",
       "      <td>52355</td>\n",
       "      <td>490074</td>\n",
       "      <td>2312717</td>\n",
       "      <td>-3.736551</td>\n",
       "      <td>0</td>\n",
       "      <td>0</td>\n",
       "      <td>1</td>\n",
       "    </tr>\n",
       "    <tr>\n",
       "      <th>5043</th>\n",
       "      <td>26183</td>\n",
       "      <td>490074</td>\n",
       "      <td>2090</td>\n",
       "      <td>-1.705971</td>\n",
       "      <td>0</td>\n",
       "      <td>1</td>\n",
       "      <td>0</td>\n",
       "    </tr>\n",
       "    <tr>\n",
       "      <th>5042</th>\n",
       "      <td>26183</td>\n",
       "      <td>490074</td>\n",
       "      <td>2090</td>\n",
       "      <td>-1.705971</td>\n",
       "      <td>0</td>\n",
       "      <td>1</td>\n",
       "      <td>0</td>\n",
       "    </tr>\n",
       "    <tr>\n",
       "      <th>5041</th>\n",
       "      <td>26183</td>\n",
       "      <td>490074</td>\n",
       "      <td>2090</td>\n",
       "      <td>-1.705971</td>\n",
       "      <td>0</td>\n",
       "      <td>1</td>\n",
       "      <td>0</td>\n",
       "    </tr>\n",
       "    <tr>\n",
       "      <th>5040</th>\n",
       "      <td>26183</td>\n",
       "      <td>490074</td>\n",
       "      <td>3464</td>\n",
       "      <td>-1.705971</td>\n",
       "      <td>0</td>\n",
       "      <td>1</td>\n",
       "      <td>0</td>\n",
       "    </tr>\n",
       "  </tbody>\n",
       "</table>\n",
       "</div>"
      ],
      "text/plain": [
       "      Mileage     Gdp  Population  logDepreciationRate  SUV  Sedan  Truck\n",
       "0      126244  490074        2090            -2.342992    0      0      1\n",
       "5045   105861  490074        2347            -1.733699    1      0      0\n",
       "5057    22898  490074        2347            -2.024021    0      0      1\n",
       "5056   105861  490074     2312717            -1.733699    1      0      0\n",
       "5055   105861  490074        2090            -1.733699    1      0      0\n",
       "5054   105861  490074        2090            -1.733699    1      0      0\n",
       "5053   105861  490074        2090            -1.733699    1      0      0\n",
       "5052   105861  490074        3464            -1.733699    1      0      0\n",
       "5051   105861  490074        3464            -1.733699    1      0      0\n",
       "5050   105861  490074         960            -1.733699    1      0      0\n",
       "5049   105861  490074         960            -1.733699    1      0      0\n",
       "5048   105861  490074         960            -1.733699    1      0      0\n",
       "5047   105861  490074         960            -1.733699    1      0      0\n",
       "5046   118155  490074        3464            -1.963553    0      1      0\n",
       "5044    26183  490074     2312717            -1.705971    0      1      0\n",
       "5059    52355  490074     2312717            -3.736551    0      0      1\n",
       "5043    26183  490074        2090            -1.705971    0      1      0\n",
       "5042    26183  490074        2090            -1.705971    0      1      0\n",
       "5041    26183  490074        2090            -1.705971    0      1      0\n",
       "5040    26183  490074        3464            -1.705971    0      1      0"
      ]
     },
     "execution_count": 81,
     "metadata": {},
     "output_type": "execute_result"
    }
   ],
   "source": [
    "DF_dummy = DF.join(pd.get_dummies(DF.vehicleType))\n",
    "DF_dummy = DF_dummy.drop(['vehicleType'], axis = 1).drop(['Counts'], axis = 1).drop(['DepreciationRate'], axis = 1).drop(['City'], axis = 1).drop(['serviceTime'], axis = 1)\n",
    "DF_dummy.head(20)"
   ]
  },
  {
   "cell_type": "code",
   "execution_count": 82,
   "metadata": {},
   "outputs": [
    {
     "name": "stdout",
     "output_type": "stream",
     "text": [
      "BIC after adding Mileage: 251492.67185659506\n",
      "BIC after adding Gdp: 251668.20540406278\n",
      "BIC after adding Population: 251722.26962140593\n",
      "BIC after adding SUV: 251695.31107550283\n",
      "BIC after adding Sedan: 232143.44351708327\n",
      "BIC after adding Truck: 233344.85341237712\n",
      "Adding Sedan to model.\n",
      "The independent variables: ['Sedan']\n",
      "BIC after adding Mileage: 231783.96888885312\n",
      "BIC after adding Gdp: 232118.85960229175\n",
      "BIC after adding Population: 232151.96861761942\n",
      "BIC after adding SUV: 227375.32028777842\n",
      "BIC after adding Truck: 227375.32028777842\n",
      "Adding SUV to model.\n",
      "The independent variables: ['Sedan', 'SUV']\n",
      "BIC after adding Mileage: 226580.73436117868\n",
      "BIC after adding Gdp: 227347.09341923054\n",
      "BIC after adding Population: 227383.9116381273\n",
      "BIC after adding Truck: 227389.96742261073\n",
      "Adding Mileage to model.\n",
      "The independent variables: ['Sedan', 'SUV', 'Mileage']\n",
      "BIC after adding Gdp: 226542.87376770627\n",
      "BIC after adding Population: 226589.58701088783\n",
      "BIC after adding Truck: 226580.73436117868\n",
      "Adding Gdp to model.\n",
      "The independent variables: ['Sedan', 'SUV', 'Mileage', 'Gdp']\n",
      "BIC after adding Population: 226553.96416881637\n",
      "BIC after adding Truck: 226542.87376770627\n",
      "Get the best (minimum) BIC. Ending forward selection.\n",
      "\n",
      "The final independent variables: ['Sedan', 'SUV', 'Mileage', 'Gdp']\n"
     ]
    }
   ],
   "source": [
    "currentRegression = []\n",
    "IndeVari = list(DF_dummy)\n",
    "IndeVari.remove('logDepreciationRate')\n",
    "\n",
    "bestAllTimeBic = np.inf\n",
    "    \n",
    "while True:\n",
    "    currentBestBic = np.inf\n",
    "    toAdd = None\n",
    "    for vari in IndeVari:\n",
    "        regTemp = currentRegression[:]\n",
    "        regTemp.extend([vari])\n",
    "        currentLm = sm.OLS(DF_dummy.logDepreciationRate, sm.add_constant(DF_dummy[regTemp])).fit()\n",
    "        currentBic = currentLm.bic\n",
    "        print (\"BIC after adding \" + vari + \": \"+ str(currentBic))\n",
    "        if currentBic < currentBestBic:\n",
    "            toAdd = vari\n",
    "            currentBestBic = currentBic\n",
    "    if currentBestBic < bestAllTimeBic:\n",
    "        print (\"Adding \" + toAdd + \" to model.\")\n",
    "        currentRegression.append(toAdd)        \n",
    "        print('The independent variables: '+ str(currentRegression))\n",
    "        IndeVari.remove(toAdd)\n",
    "        bestAllTimeBic = currentBestBic\n",
    "    else:\n",
    "        print (\"Get the best (minimum) BIC. Ending forward selection.\")\n",
    "        print()\n",
    "        print('The final independent variables: '+ str(currentRegression))\n",
    "        break"
   ]
  },
  {
   "cell_type": "code",
   "execution_count": 84,
   "metadata": {
    "scrolled": false
   },
   "outputs": [
    {
     "name": "stdout",
     "output_type": "stream",
     "text": [
      "                             OLS Regression Results                            \n",
      "===============================================================================\n",
      "Dep. Variable:     logDepreciationRate   R-squared:                       0.240\n",
      "Model:                             OLS   Adj. R-squared:                  0.240\n",
      "Method:                  Least Squares   F-statistic:                     7256.\n",
      "Date:                 Thu, 06 Dec 2018   Prob (F-statistic):               0.00\n",
      "Time:                         02:18:15   Log-Likelihood:            -1.1324e+05\n",
      "No. Observations:                91906   AIC:                         2.265e+05\n",
      "Df Residuals:                    91901   BIC:                         2.265e+05\n",
      "Df Model:                            4                                         \n",
      "Covariance Type:             nonrobust                                         \n",
      "==============================================================================\n",
      "                 coef    std err          t      P>|t|      [0.025      0.975]\n",
      "------------------------------------------------------------------------------\n",
      "Intercept     -3.0565      0.007   -462.204      0.000      -3.069      -3.044\n",
      "Sedan          1.1078      0.007    169.080      0.000       1.095       1.121\n",
      "SUV            0.5266      0.007     73.300      0.000       0.513       0.541\n",
      "Mileage     1.725e-06   6.03e-08     28.622      0.000    1.61e-06    1.84e-06\n",
      "Gdp         1.219e-07   1.74e-08      7.021      0.000    8.79e-08    1.56e-07\n",
      "==============================================================================\n",
      "Omnibus:                    62452.223   Durbin-Watson:                   0.554\n",
      "Prob(Omnibus):                  0.000   Jarque-Bera (JB):          1473696.359\n",
      "Skew:                          -2.954   Prob(JB):                         0.00\n",
      "Kurtosis:                      21.707   Cond. No.                     7.00e+05\n",
      "==============================================================================\n",
      "\n",
      "Warnings:\n",
      "[1] Standard Errors assume that the covariance matrix of the errors is correctly specified.\n",
      "[2] The condition number is large,  7e+05. This might indicate that there are\n",
      "strong multicollinearity or other numerical problems.\n"
     ]
    }
   ],
   "source": [
    "lm = smf.ols('logDepreciationRate ~ Sedan+SUV+Mileage+Gdp', data=DF_dummy).fit()\n",
    "print(lm.summary())"
   ]
  },
  {
   "cell_type": "code",
   "execution_count": 87,
   "metadata": {},
   "outputs": [
    {
     "data": {
      "image/png": "[encoded data removed]",
      "text/plain": [
       "<Figure size 432x288 with 1 Axes>"
      ]
     },
     "metadata": {},
     "output_type": "display_data"
    },
    {
     "data": {
      "image/png": "[encoded data removed]",
      "text/plain": [
       "<Figure size 432x288 with 1 Axes>"
      ]
     },
     "metadata": {},
     "output_type": "display_data"
    },
    {
     "data": {
      "image/png": "[encoded data removed]",
      "text/plain": [
       "<Figure size 432x288 with 1 Axes>"
      ]
     },
     "metadata": {},
     "output_type": "display_data"
    },
    {
     "data": {
      "image/png": "[encoded data removed]",
      "text/plain": [
       "<Figure size 432x288 with 1 Axes>"
      ]
     },
     "metadata": {},
     "output_type": "display_data"
    }
   ],
   "source": [
    "DF_dummy['Prediction'] = lm.predict()\n",
    "plt.scatter(DF_dummy.Mileage, DF_dummy.logDepreciationRate)\n",
    "plt.scatter(DF_dummy.Mileage, DF_dummy.Prediction)\n",
    "plt.xlabel('Mileage')\n",
    "plt.ylabel('logDepreciationRate')\n",
    "plt.title('logDepreciationRate V.S Mileage')\n",
    "plt.show()\n",
    "DF_dummy['Prediction'] = lm.predict()\n",
    "plt.scatter(DF_dummy.Gdp, DF_dummy.logDepreciationRate)\n",
    "plt.scatter(DF_dummy.Gdp, DF_dummy.Prediction)\n",
    "plt.xlabel('Gdp')\n",
    "plt.ylabel('logDepreciationRate')\n",
    "plt.title('logDepreciationRate V.S Gdp')\n",
    "plt.show()\n",
    "plt.scatter(DF_dummy.Mileage, DF_dummy.logDepreciationRate-DF_dummy.Prediction)\n",
    "plt.axhline(y=0, color='r', linestyle='-')\n",
    "plt.xlabel('Mileage')\n",
    "plt.ylabel('Residuals')\n",
    "plt.title('Residuals V.S Mileage')\n",
    "plt.show()\n",
    "plt.scatter(DF_dummy.Gdp, DF_dummy.logDepreciationRate-DF_dummy.Prediction)\n",
    "plt.axhline(y=0, color='r', linestyle='-')\n",
    "plt.xlabel('Gdp')\n",
    "plt.ylabel('Residuals')\n",
    "plt.title('Residuals V.S Gdp')\n",
    "plt.show()"
   ]
  },
  {
   "cell_type": "code",
   "execution_count": null,
   "metadata": {},
   "outputs": [],
   "source": []
  }
 ],
 "metadata": {
  "kernelspec": {
   "display_name": "Python 3",
   "language": "python",
   "name": "python3"
  },
  "language_info": {
   "codemirror_mode": {
    "name": "ipython",
    "version": 3
   },
   "file_extension": ".py",
   "mimetype": "text/x-python",
   "name": "python",
   "nbconvert_exporter": "python",
   "pygments_lexer": "ipython3",
   "version": "3.6.5"
  }
 },
 "nbformat": 4,
 "nbformat_minor": 2
}
